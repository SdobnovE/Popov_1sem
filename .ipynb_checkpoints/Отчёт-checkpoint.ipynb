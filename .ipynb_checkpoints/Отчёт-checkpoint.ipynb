{
 "cells": [
  {
   "cell_type": "code",
   "execution_count": 312,
   "metadata": {},
   "outputs": [],
   "source": [
    "import pandas as pd\n",
    "import matplotlib.pyplot as plt\n",
    "import numpy as np"
   ]
  },
  {
   "cell_type": "code",
   "execution_count": 313,
   "metadata": {},
   "outputs": [],
   "source": [
    "!g++ 10Task.cpp -O3 -march=native -ffast-math\n"
   ]
  },
  {
   "cell_type": "code",
   "execution_count": 314,
   "metadata": {},
   "outputs": [
    {
     "name": "stdout",
     "output_type": "stream",
     "text": [
      "1.193969e-02 2.909018e-04\r\n"
     ]
    }
   ],
   "source": [
    "!./a.out 1 1 N[0] M[0] L2"
   ]
  },
  {
   "cell_type": "code",
   "execution_count": 315,
   "metadata": {},
   "outputs": [],
   "source": [
    "N = [10, 100, 1_000, 10_000]\n",
    "M = [10, 100, 1_000, 10_000]"
   ]
  },
  {
   "cell_type": "code",
   "execution_count": 316,
   "metadata": {},
   "outputs": [],
   "source": [
    "Mu = [0.1, 0.01, 0.001]\n",
    "C = [1, 10, 100]\n",
    "Norm = [\"L2\", \"W\", \"C\"]"
   ]
  },
  {
   "cell_type": "code",
   "execution_count": 317,
   "metadata": {},
   "outputs": [],
   "source": [
    "Max = 3 * 3 * 3#27 табличек\n",
    "cnt = 0"
   ]
  },
  {
   "cell_type": "code",
   "execution_count": null,
   "metadata": {},
   "outputs": [],
   "source": [
    "tables = []\n",
    "description = []\n",
    "cnt = 0"
   ]
  },
  {
   "cell_type": "code",
   "execution_count": null,
   "metadata": {},
   "outputs": [],
   "source": [
    "\n",
    "for norm in Norm:\n",
    "    for c in C:\n",
    "        for mu in Mu:\n",
    "            table1 = pd.DataFrame(index=N, columns=M)\n",
    "            table2 = pd.DataFrame(index=N, columns=M)\n",
    "            for n in N:\n",
    "                for m in M:\n",
    "                    residual = !./a.out $mu $c $n $m $norm\n",
    "                    if len(residual) == 0:\n",
    "                        residual = [\"nan\", \"nan\"]\n",
    "                    else:\n",
    "                        residual = residual[0].split(\" \")\n",
    "                    table1[n][m] = residual[0]\n",
    "                    table2[n][m] = residual[1]\n",
    "                    \n",
    "                    \n",
    "            print(\"Mu=\", mu, \"  C=\", c, \" Норма=\", norm, \" H(Плотность):\")\n",
    "            print(table1)\n",
    "            print()\n",
    "            \n",
    "            print(\"Mu=\", mu, \"  C=\", c, \" Норма=\", norm, \" V(Скорость):\")\n",
    "            print(table2)\n",
    "            \n",
    "            print()\n",
    "            print(cnt)\n",
    "            print()\n",
    "            cnt+=1\n",
    "            \n",
    "            tables.append(table1.T)            \n",
    "            tables.append(table2.T)\n",
    "            description.append(\"\".join([\"Mu=\", str(mu), \"  C=\", str(c), \" Норма=\", str(norm), \" H(Плотность):\"]))\n",
    "            description.append(\"\".join([\"Mu=\", str(mu), \"  C=\", str(c), \" Норма=\", str(norm), \" V(Скорость):\"]))\n",
    "        "
   ]
  },
  {
   "cell_type": "code",
   "execution_count": null,
   "metadata": {},
   "outputs": [],
   "source": [
    "with open(\"my_tables.txt\", \"w\") as f:\n",
    "    for i in range(len(tables)):\n",
    "        print(description[i], file=f)\n",
    "        print(\"\\n\", file=f)\n",
    "        print(tables[i].to_latex(), file=f)\n",
    "        print(\"\\n\", file=f)\n",
    "        print(\"\\\\bigskip\", file=f)\n",
    "        print(\"\\n\", file=f)"
   ]
  },
  {
   "cell_type": "code",
   "execution_count": 39,
   "metadata": {},
   "outputs": [
    {
     "name": "stdout",
     "output_type": "stream",
     "text": [
      "4.696012e-01 4.875196e-02\r\n"
     ]
    }
   ],
   "source": [
    "!./a.out 0.1 1 10 10 L2"
   ]
  },
  {
   "cell_type": "code",
   "execution_count": 5,
   "metadata": {},
   "outputs": [],
   "source": [
    "!g++ 10Task_2.cpp -O3 -march=native -ffast-math\n"
   ]
  },
  {
   "cell_type": "code",
   "execution_count": 237,
   "metadata": {},
   "outputs": [],
   "source": [
    "def run_prog(M):\n",
    "    result = !./a.out $M\n",
    "    \n",
    "    result[0] = [float(i) for i in result[0].split()]\n",
    "    result[1] = [float(i) for i in result[1].split()]\n",
    "    return result"
   ]
  },
  {
   "cell_type": "code",
   "execution_count": 248,
   "metadata": {},
   "outputs": [],
   "source": [
    "r = run_prog(100)"
   ]
  },
  {
   "cell_type": "code",
   "execution_count": 249,
   "metadata": {},
   "outputs": [
    {
     "data": {
      "text/plain": [
       "[<matplotlib.lines.Line2D at 0x7fb038027dd0>,\n",
       " <matplotlib.lines.Line2D at 0x7fb038027fd0>]"
      ]
     },
     "execution_count": 249,
     "metadata": {},
     "output_type": "execute_result"
    },
    {
     "data": {
      "image/png": "[encoded data removed]",
      "text/plain": [
       "<Figure size 432x288 with 1 Axes>"
      ]
     },
     "metadata": {
      "needs_background": "light"
     },
     "output_type": "display_data"
    }
   ],
   "source": [
    "plt.plot([0.1*i for i in range(101)], r[1],\"g\",[0.1*i for i in range(101)], r[0],\"r\")\n"
   ]
  },
  {
   "cell_type": "code",
   "execution_count": null,
   "metadata": {},
   "outputs": [],
   "source": []
  },
  {
   "cell_type": "code",
   "execution_count": 271,
   "metadata": {},
   "outputs": [],
   "source": [
    "def determ_stabilisation():\n",
    "    '''Возвращает момент стабилизации и потерянную массу'''\n",
    "    eps = 1.629e-2\n",
    "    step = 1800\n",
    "    previous= -1\n",
    "    res = run_prog(0)\n",
    "    initial_mass = np.linalg.norm(res[0])\n",
    "    while True:\n",
    "        res = run_prog(step)\n",
    "        if max(res[0]) - min(res[0]) < eps and max(res[1]) - min(res[1]) < eps:\n",
    "            return step, np.linalg.norm(res[0]) - initial_mass\n",
    "        step+=1\n",
    "        print(step, max(res[0]) - min(res[0]), max(res[1]) - min(res[1]))\n"
   ]
  },
  {
   "cell_type": "code",
   "execution_count": 272,
   "metadata": {},
   "outputs": [
    {
     "name": "stdout",
     "output_type": "stream",
     "text": [
      "1801 0.024724999999999886 0.003202124\n",
      "1802 0.024511999999999867 0.003871128\n",
      "1803 0.02425300000000008 0.004536048\n",
      "1804 0.023948999999999998 0.005181326\n",
      "1805 0.023600999999999983 0.005803646\n",
      "1806 0.023209000000000035 0.006400668\n",
      "1807 0.022777000000000047 0.006970166\n",
      "1808 0.02230500000000002 0.007510048\n",
      "1809 0.021795999999999927 0.008018348\n",
      "1810 0.02125100000000013 0.008493244\n",
      "1811 0.02067399999999986 0.008935578\n",
      "1812 0.020065999999999917 0.009347398\n",
      "1813 0.019429999999999836 0.009720992\n",
      "1814 0.018769000000000036 0.010055016\n",
      "1815 0.01808399999999999 0.010348288\n",
      "1816 0.017379000000000033 0.0105998\n",
      "1817 0.016656999999999922 0.01080871\n"
     ]
    },
    {
     "data": {
      "text/plain": [
       "(1817, -0.6184162948289238)"
      ]
     },
     "execution_count": 272,
     "metadata": {},
     "output_type": "execute_result"
    }
   ],
   "source": [
    "determ_stabilisation()"
   ]
  },
  {
   "cell_type": "code",
   "execution_count": 283,
   "metadata": {},
   "outputs": [],
   "source": [
    "r = run_prog(1817)"
   ]
  },
  {
   "cell_type": "code",
   "execution_count": 309,
   "metadata": {},
   "outputs": [],
   "source": [
    "def draw(first, second):\n",
    "    plt.figure(num=None, figsize=(20, 8), dpi=80, facecolor='w', edgecolor='k')\n",
    "\n",
    "    plt.plot([0.1*i for i in range(len(first))], first, \"g\")\n",
    "    plt.plot([0.1*i for i in range(len(second))], second, \"r\")\n",
    "    plt.legend([\"Плотность\", \"Скорость\"], prop={\"size\":20})\n",
    "    plt.show()"
   ]
  },
  {
   "cell_type": "code",
   "execution_count": 310,
   "metadata": {},
   "outputs": [
    {
     "data": {
      "image/png": "[encoded data removed]",
      "text/plain": [
       "<Figure size 1600x640 with 1 Axes>"
      ]
     },
     "metadata": {},
     "output_type": "display_data"
    }
   ],
   "source": [
    "draw(r[0], r[1])"
   ]
  },
  {
   "cell_type": "raw",
   "metadata": {},
   "source": []
  },
  {
   "cell_type": "code",
   "execution_count": null,
   "metadata": {},
   "outputs": [],
   "source": []
  }
 ],
 "metadata": {
  "kernelspec": {
   "display_name": "Python 3",
   "language": "python",
   "name": "python3"
  },
  "language_info": {
   "codemirror_mode": {
    "name": "ipython",
    "version": 3
   },
   "file_extension": ".py",
   "mimetype": "text/x-python",
   "name": "python",
   "nbconvert_exporter": "python",
   "pygments_lexer": "ipython3",
   "version": "3.7.5"
  }
 },
 "nbformat": 4,
 "nbformat_minor": 2
}
