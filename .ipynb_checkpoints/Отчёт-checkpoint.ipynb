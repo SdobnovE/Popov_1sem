{
 "cells": [
  {
   "cell_type": "code",
   "execution_count": 1,
   "metadata": {},
   "outputs": [],
   "source": [
    "import pandas as pd"
   ]
  },
  {
   "cell_type": "code",
   "execution_count": 2,
   "metadata": {},
   "outputs": [],
   "source": [
    "!g++ 10Task.cpp -O3 -march=native -ffast-math\n"
   ]
  },
  {
   "cell_type": "code",
   "execution_count": 3,
   "metadata": {},
   "outputs": [
    {
     "name": "stdout",
     "output_type": "stream",
     "text": [
      "1.193969e-02 2.909018e-04\r\n"
     ]
    }
   ],
   "source": [
    "!./a.out 1 1 N[0] M[0] L2"
   ]
  },
  {
   "cell_type": "code",
   "execution_count": 4,
   "metadata": {},
   "outputs": [],
   "source": [
    "N = [10, 100, 1_000, 10_000]\n",
    "M = [10, 100, 1_000, 10_000]"
   ]
  },
  {
   "cell_type": "code",
   "execution_count": 5,
   "metadata": {},
   "outputs": [],
   "source": [
    "Mu = [0.1, 0.01, 0.001]\n",
    "C = [1, 10, 100]\n",
    "Norm = [\"L2\", \"W\", \"C\"]"
   ]
  },
  {
   "cell_type": "code",
   "execution_count": 6,
   "metadata": {},
   "outputs": [],
   "source": [
    "table = pd.DataFrame(index=N, columns=M)"
   ]
  },
  {
   "cell_type": "code",
   "execution_count": 7,
   "metadata": {},
   "outputs": [],
   "source": [
    "table[10][10]=3"
   ]
  },
  {
   "cell_type": "code",
   "execution_count": 8,
   "metadata": {},
   "outputs": [
    {
     "name": "stdout",
     "output_type": "stream",
     "text": [
      "      10    100   1000  10000\n",
      "10        3   NaN   NaN   NaN\n",
      "100     NaN   NaN   NaN   NaN\n",
      "1000    NaN   NaN   NaN   NaN\n",
      "10000   NaN   NaN   NaN   NaN\n"
     ]
    }
   ],
   "source": [
    "print(table)"
   ]
  },
  {
   "cell_type": "code",
   "execution_count": 9,
   "metadata": {},
   "outputs": [],
   "source": [
    "Max = 3 * 3 * 3 * 4 * 4\n",
    "cnt = 0"
   ]
  },
  {
   "cell_type": "code",
   "execution_count": 10,
   "metadata": {},
   "outputs": [],
   "source": [
    "tables = []\n",
    "description = []\n",
    "cnt = 0"
   ]
  },
  {
   "cell_type": "code",
   "execution_count": null,
   "metadata": {},
   "outputs": [
    {
     "name": "stdout",
     "output_type": "stream",
     "text": [
      "Mu= [0.1, 0.01, 0.001]   C= [1, 10, 100]   L2  H:\n",
      "              10            100           1000          10000\n",
      "10     4.696012e-01  5.273774e-02  2.061029e-02  1.983687e-02\n",
      "100    4.676729e-01  4.794685e-02  4.822147e-03  5.248298e-04\n",
      "1000   4.676547e-01  4.793345e-02  4.807590e-03  4.810054e-04\n",
      "10000  4.676542e-01  4.793332e-02  4.807479e-03  4.808928e-04\n",
      "\n",
      "Mu= [0.1, 0.01, 0.001]   C= 1   L2  V:\n",
      "              10            100           1000          10000\n",
      "10     4.875196e-02  2.258236e-02  2.216811e-02  2.214678e-02\n",
      "100    2.988319e-02  8.504889e-04  2.495879e-04  2.309446e-04\n",
      "1000   2.970035e-02  7.253258e-04  6.949198e-05  7.547881e-06\n",
      "10000  2.969852e-02  7.243288e-04  6.912976e-05  6.940393e-06\n",
      "\n",
      "0\n",
      "\n",
      "Mu= [0.1, 0.01, 0.001]   C= [1, 10, 100]   L2  H:\n",
      "              10            100           1000          10000\n",
      "10     4.693622e-01  5.309688e-02  2.166696e-02  2.094877e-02\n",
      "100    4.680585e-01  4.801370e-02  4.828824e-03  5.282214e-04\n",
      "1000   6.490445e-01  4.800133e-02  4.814649e-03  4.817075e-04\n",
      "10000  5.836857e-01  4.800121e-02  4.814546e-03  4.816021e-04\n",
      "\n",
      "Mu= [0.1, 0.01, 0.001]   C= 1   L2  V:\n",
      "              10            100           1000          10000\n",
      "10     5.029442e-02  2.354953e-02  2.311536e-02  2.309261e-02\n",
      "100    3.087900e-02  1.037940e-03  2.684276e-04  2.431423e-04\n",
      "1000   1.917698e+00  9.277028e-04  9.006968e-05  9.537925e-06\n",
      "10000  4.204071e-02  9.268492e-04  8.974294e-05  8.992415e-06\n",
      "\n",
      "1\n",
      "\n",
      "Mu= [0.1, 0.01, 0.001]   C= [1, 10, 100]   L2  H:\n",
      "              10            100           1000          10000\n",
      "10     4.693392e-01  5.313843e-02  2.178340e-02  2.107080e-02\n",
      "100    4.681079e-01  4.802108e-02  4.829571e-03  5.287424e-04\n",
      "1000   2.101289e+05  4.800866e-02  4.815410e-03  4.817831e-04\n",
      "10000  6.689137e+00  2.831079e+51  4.815307e-03  4.816785e-04\n",
      "\n",
      "Mu= [0.1, 0.01, 0.001]   C= 1   L2  V:\n",
      "              10            100           1000          10000\n",
      "10     5.046303e-02  2.365315e-02  2.321639e-02  2.319345e-02\n",
      "100    3.099334e-02  1.058706e-03  2.706002e-04  2.445016e-04\n",
      "1000   1.048840e+01  9.495971e-04  9.228166e-05  9.755249e-06\n",
      "10000  1.108761e+00  2.373660e+01  9.195584e-05  9.212892e-06\n",
      "\n",
      "2\n",
      "\n",
      "^C\n"
     ]
    }
   ],
   "source": [
    "\n",
    "for norm in Norm:\n",
    "    for c in C:\n",
    "        for mu in Mu:\n",
    "            table1 = pd.DataFrame(index=N, columns=M)\n",
    "            table2 = pd.DataFrame(index=N, columns=M)\n",
    "            for n in N:\n",
    "                for m in M:\n",
    "                    residual = !./a.out $mu $c $n $m $norm\n",
    "                    if len(residual) == 0:\n",
    "                        residual = [\"nan\", \"nan\"]\n",
    "                    else:\n",
    "                        residual = residual[0].split(\" \")\n",
    "                    table1[n][m] = residual[0]\n",
    "                    table2[n][m] = residual[1]\n",
    "                    \n",
    "                    \n",
    "            print(\"Mu=\", mu, \"  C=\", c, \" \", norm, \" H:\")\n",
    "            print(table1)\n",
    "            print()\n",
    "            \n",
    "            print(\"Mu=\", mu, \"  C=\", c, \" \", norm, \" V:\")\n",
    "            print(table2)\n",
    "            \n",
    "            print()\n",
    "            print(cnt)\n",
    "            print()\n",
    "            cnt+=1\n",
    "            \n",
    "            tables.append(table1)            \n",
    "            tables.append(table2)\n",
    "            description.append(\"\".join([\"Mu=\", str(mu), \"  C=\", str(c), \" \", str(norm), \" H:\"]))\n",
    "            description.append(\"\".join([\"Mu=\", str(mu), \"  C=\", str(c), \" \", str(norm), \" V:\"]))\n",
    "        "
   ]
  },
  {
   "cell_type": "code",
   "execution_count": 170,
   "metadata": {},
   "outputs": [],
   "source": [
    "tex = table.to_latex()"
   ]
  },
  {
   "cell_type": "code",
   "execution_count": 171,
   "metadata": {},
   "outputs": [
    {
     "name": "stdout",
     "output_type": "stream",
     "text": [
      "4.696012e-01 4.875196e-02\r\n"
     ]
    }
   ],
   "source": [
    "!./a.out 0.1 1 10 10 L2"
   ]
  },
  {
   "cell_type": "code",
   "execution_count": 21,
   "metadata": {},
   "outputs": [
    {
     "data": {
      "text/plain": [
       "'Mu=[0.1, 0.01, 0.001]  C=[1, 10, 100] L2 H:'"
      ]
     },
     "execution_count": 21,
     "metadata": {},
     "output_type": "execute_result"
    }
   ],
   "source": [
    "\"\".join([\"Mu=\", str(Mu), \"  C=\", str(C), \" \", str(norm), \" H:\"])"
   ]
  },
  {
   "cell_type": "code",
   "execution_count": null,
   "metadata": {},
   "outputs": [],
   "source": []
  },
  {
   "cell_type": "code",
   "execution_count": 12,
   "metadata": {},
   "outputs": [],
   "source": []
  },
  {
   "cell_type": "code",
   "execution_count": null,
   "metadata": {},
   "outputs": [],
   "source": []
  }
 ],
 "metadata": {
  "kernelspec": {
   "display_name": "Python 3",
   "language": "python",
   "name": "python3"
  },
  "language_info": {
   "codemirror_mode": {
    "name": "ipython",
    "version": 3
   },
   "file_extension": ".py",
   "mimetype": "text/x-python",
   "name": "python",
   "nbconvert_exporter": "python",
   "pygments_lexer": "ipython3",
   "version": "3.7.5"
  }
 },
 "nbformat": 4,
 "nbformat_minor": 2
}
